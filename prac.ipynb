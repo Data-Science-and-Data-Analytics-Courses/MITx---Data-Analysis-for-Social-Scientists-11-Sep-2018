{
  "nbformat": 4,
  "nbformat_minor": 0,
  "metadata": {
    "colab": {
      "name": "prac.ipynb",
      "version": "0.3.2",
      "provenance": [],
      "collapsed_sections": [],
      "include_colab_link": true
    },
    "kernelspec": {
      "name": "python3",
      "display_name": "Python 3"
    },
    "accelerator": "GPU"
  },
  "cells": [
    {
      "cell_type": "markdown",
      "metadata": {
        "id": "view-in-github",
        "colab_type": "text"
      },
      "source": [
        "<a href=\"https://colab.research.google.com/github/Data-Science-and-Data-Analytics-Courses/MITx---Data-Analysis-for-Social-Scientists-11-Sep-2018/blob/master/prac.ipynb\" target=\"_parent\"><img src=\"https://colab.research.google.com/assets/colab-badge.svg\" alt=\"Open In Colab\"/></a>"
      ]
    },
    {
      "cell_type": "markdown",
      "metadata": {
        "id": "RBoK7xGvunm-",
        "colab_type": "text"
      },
      "source": [
        "# Practice Exam Paper"
      ]
    },
    {
      "cell_type": "markdown",
      "metadata": {
        "id": "nA3JaYx5WuH8",
        "colab_type": "text"
      },
      "source": [
        "## Packages and libraries"
      ]
    },
    {
      "cell_type": "code",
      "metadata": {
        "id": "0Bz3g_0AW6Tf",
        "colab_type": "code",
        "outputId": "a1f31e1d-0ed9-47d7-86be-15c5d67dee5e",
        "colab": {
          "base_uri": "https://localhost:8080/",
          "height": 153
        }
      },
      "source": [
        "!pip install binarytree"
      ],
      "execution_count": 1,
      "outputs": [
        {
          "output_type": "stream",
          "text": [
            "Collecting binarytree\n",
            "  Downloading https://files.pythonhosted.org/packages/4f/df/43fe21208abbb67a37c9aa1b970de64984b95959610b00d68316302b5fcd/binarytree-4.0.0.tar.gz\n",
            "Building wheels for collected packages: binarytree\n",
            "  Building wheel for binarytree (setup.py) ... \u001b[?25l\u001b[?25hdone\n",
            "  Stored in directory: /root/.cache/pip/wheels/f0/a2/28/6186a7ac05e3a38d3f3823bc6a3839ed5035de2819f4ca71cd\n",
            "Successfully built binarytree\n",
            "Installing collected packages: binarytree\n",
            "Successfully installed binarytree-4.0.0\n"
          ],
          "name": "stdout"
        }
      ]
    },
    {
      "cell_type": "code",
      "metadata": {
        "id": "WSEqcGGkYEZ_",
        "colab_type": "code",
        "colab": {}
      },
      "source": [
        "from binarytree import bst, build\n",
        "import numpy as np\n",
        "import numpy.ma as ma"
      ],
      "execution_count": 0,
      "outputs": []
    },
    {
      "cell_type": "markdown",
      "metadata": {
        "id": "xPXesg5Ruv2C",
        "colab_type": "text"
      },
      "source": [
        "## Question 1 (4 marks)\n",
        "A. Give the names of two stable sorting algorithms, together with their worst-case time\n",
        "complexities. Write the names and complexities in the box:  \n",
        "\n",
        "Insertion Sort: $O(n^2)$  \n",
        "Merge Sort: $O(nlog(n))$  \n"
      ]
    },
    {
      "cell_type": "markdown",
      "metadata": {
        "id": "dEdL1_Sxv-LF",
        "colab_type": "text"
      },
      "source": [
        "B. Give the names of two unstable sorting algorithms, together with their worst-case time\n",
        "complexities. Write the names and complexities in the box:  \n",
        "\n",
        "Heap Sort: $O(nlog(n))$  \n",
        "Quick Sort: $O(n^2)$  \n"
      ]
    },
    {
      "cell_type": "markdown",
      "metadata": {
        "id": "u_24RrVtw5nT",
        "colab_type": "text"
      },
      "source": [
        "## Question 2 (4 marks)\n",
        "We are given an array A holding n integers, for some large n. The array is sorted, and the\n",
        "values in A range from -2147483648 to 2147483647, evenly distributed. Give Θ expressions\n",
        "for the following tasks:  \n",
        "A. Running the insertion sort algorithm on the array A: n  \n",
        "B. Running the selection sort algorithm on the array A: $n^2$  \n",
        "C. Performing binary search for integer k which is not in A: log(n)  \n",
        "D. Performing interpolation search for integer k not in A: c  \n"
      ]
    },
    {
      "cell_type": "markdown",
      "metadata": {
        "id": "kEA-8CFZ22If",
        "colab_type": "text"
      },
      "source": [
        "## Question 3 (4 marks)\n",
        "For the directed graph below, list the order in which the nine nodes are visited during a\n",
        "\n",
        "depth-first (DFS) traversal, as well as the order in which they are visited during a breadth-\n",
        "first (BFS) traversal. As always, assume that any ties are resolved by taking nodes in\n",
        "\n",
        "alphabetical order. Write the answers in the boxes given.  \n",
        "DFS sequence: a c b h g f d x  \n",
        "BFS sequence: a c x b d h g f  \n"
      ]
    },
    {
      "cell_type": "markdown",
      "metadata": {
        "id": "72ju459NAdN2",
        "colab_type": "text"
      },
      "source": [
        "## Question 4 (4 marks)\n",
        "Given the pattern A T G A and the text  \n",
        "T C A T C A T C C A T G C A C A A T G A C T T T  \n",
        "how many character comparisons will Horspool’s algorithm make before locating the pattern\n",
        "in the text? Write the number in the box: 11  \n"
      ]
    },
    {
      "cell_type": "markdown",
      "metadata": {
        "id": "QbBEiOSxnqLX",
        "colab_type": "text"
      },
      "source": [
        "## Question 5 (4 marks)\n",
        "Assume the array A holds the keys 77, 64, 15, 43, 28, 91, 80, 32, 56 in index positions 1 to 9.\n",
        "Show the heap that results after application of the linear-time bottom-up heap construction\n",
        "algorithm. You may show the heap as a tree or as an array.  \n",
        "\n",
        "Max heap: 91, 64, 80, 56, 28, 15, 77, 32, 43  \n"
      ]
    },
    {
      "cell_type": "markdown",
      "metadata": {
        "id": "sXEAIajZ5iq9",
        "colab_type": "text"
      },
      "source": [
        "## Question 6 (4 marks)\n",
        "The functions A–D are defined recursively as follows (all divisions round down, to the closest\n",
        "integer):  \n",
        "\n",
        "A(n) = 2 A(n/3) + 2, with A(1) = 1  \n",
        "B(n) = B(n/2) + n/2, with B(1) = 1  \n",
        "C(n) = 512 C(n/8) + 4n\n",
        "2\n",
        ", with C(1) = 4  \n",
        "\n",
        "D(n) = 4 D(n/2) + n\n",
        "2\n",
        ", with D(1) = 2  \n",
        "\n",
        "In the following table, for each of the four functions, tick the most precise correct statement\n",
        "about the function’s rate of growth:  \n",
        "A: $O(n)$  \n",
        "B: $\\Theta(n)$  \n",
        "C: $O(n^3)$  \n",
        "D: $O(n^2log(n))$  \n"
      ]
    },
    {
      "cell_type": "markdown",
      "metadata": {
        "id": "RTQqpR5N-M3p",
        "colab_type": "text"
      },
      "source": [
        "## Question 7 (4 marks)\n",
        "For each of A–D below, answer yes or no, and, in each case, briefly explain your reasoning\n",
        "(just a justification of your answer, rather than detailed calculations). A yes/no answer that\n",
        "is not justified will not attract marks, even if correct.  \n",
        "A.\n",
        "Is √\n",
        "n ∈ Ω(n)?  \n",
        "No. n grows faster than $\\sqrt{n}$ for $\\lim_{n \\to \\infty} \\frac{n}{\\sqrt{n}} = \\infty$\n",
        "\n",
        "B.\n",
        "Is n\n",
        "2 log n ∈ O(n\n",
        "log n\n",
        ")?  \n",
        "No. $n^{2logn}$ grows faster than $n^{logn}$ for $\\lim_{n \\to \\infty} \\frac{n^{2logn}}{n^{logn}} = \\lim_{n \\to \\infty} n^{logn} = \\infty$\n",
        "\n",
        "C.\n",
        "Is Θ(log(n\n",
        "2 log n\n",
        ")) =\n",
        "Θ(log(n\n",
        "log n\n",
        "))?  \n",
        "Yes. They grow at the same rate for $\\Theta (log(n^{2logn})) = \\Theta (log^2n) = \\Theta (log(n^{logn}))$\n",
        "\n",
        "D.\n",
        "Is Θ(log(2n\n",
        ")) =\n",
        "Θ(log(3n\n",
        "))?  \n",
        "Yes. $\\Theta (log(2^n)) = \\Theta (n) = \\Theta (log(2^n))$\n",
        "\n"
      ]
    },
    {
      "cell_type": "markdown",
      "metadata": {
        "id": "V8ITUmr_Fd7Y",
        "colab_type": "text"
      },
      "source": [
        "## Question 8 (6 marks)\n"
      ]
    },
    {
      "cell_type": "markdown",
      "metadata": {
        "id": "Sp1Cp5E1FjWC",
        "colab_type": "text"
      },
      "source": [
        "A. The box below contains a weighted undirected graph with eight nodes. Give a minimum\n",
        "spanning tree for the graph. You may do that either by outlining a minimum spanning tree\n",
        "on the graph itself, or by drawing the tree in the empty space next to the graph.  \n",
        "\n",
        "See [Prim Minimum Cost Spanning Tree](https://www.cs.usfca.edu/~galles/visualization/Prim.html)"
      ]
    },
    {
      "cell_type": "code",
      "metadata": {
        "id": "y2rceRFnMVQ0",
        "colab_type": "code",
        "colab": {
          "base_uri": "https://localhost:8080/",
          "height": 34
        },
        "outputId": "19f1a1ed-359e-4af0-fd29-ec192d239192"
      },
      "source": [
        "def mst(weight, start=0):\n",
        "  \"\"\"\n",
        "  weight: adjacency matrix\n",
        "  start: index to start vertex\n",
        "  \"\"\"\n",
        "  \n",
        "  weight = np.asarray(weight)\n",
        "  n = weight.shape[0] # number of vertices\n",
        "  potential = np.full(n, False) # expandable vertices\n",
        "  known = np.full(n, False) # covered vertices\n",
        "  cost = np.full(n, float(\"inf\")) # minimum cost of expanding to vertices\n",
        "  path = np.full(n, -1) # preceding vertices\n",
        "\n",
        "  potential[start] = True\n",
        "  cost[start] = 0\n",
        "  while np.any(potential):\n",
        "    # Expand coverage\n",
        "    new = np.argmin(ma.array(cost, mask=~potential))\n",
        "    known[new] = True\n",
        "    potential[new] = False\n",
        "    \n",
        "    # Update potential\n",
        "    updated = (weight[new]>0) & np.logical_not(known) & (weight[new]<cost)\n",
        "    potential |= updated\n",
        "    cost[updated] = weight[new][updated]\n",
        "    path[updated] = new\n",
        "    \n",
        "  vertices = np.array(range(n))  \n",
        "  valid = known & (path>=0) # exclude start vertex\n",
        "  edges = list(zip(path[valid], vertices[valid]))\n",
        "  total_cost = np.sum(cost[known])\n",
        "  \n",
        "  return edges, total_cost\n",
        "\n",
        "weight = np.array([[0., 5., 0., 0., 0., 0., 0., 6.],\n",
        "                   [5., 0., 7., 0., 0., 0., 0., 4.],\n",
        "                   [0., 7., 0., 4., 0., 0., 6., 9.],\n",
        "                   [0., 0., 4., 0., 7., 3., 5., 0.],\n",
        "                   [0., 0., 0., 7., 0., 8., 0., 0.],\n",
        "                   [0., 0., 0., 3., 8., 0., 4., 0.],\n",
        "                   [0., 0., 6., 5., 0., 4., 0., 8.],\n",
        "                   [6., 4., 9., 0., 0., 0., 8., 0.]])\n",
        "mst(weight)"
      ],
      "execution_count": 96,
      "outputs": [
        {
          "output_type": "execute_result",
          "data": {
            "text/plain": [
              "([(0, 1), (1, 2), (2, 3), (3, 4), (3, 5), (5, 6), (1, 7)], 34.0)"
            ]
          },
          "metadata": {
            "tags": []
          },
          "execution_count": 96
        }
      ]
    },
    {
      "cell_type": "markdown",
      "metadata": {
        "id": "5p7nOD73rMFi",
        "colab_type": "text"
      },
      "source": [
        "## Question 10 (10 marks)\n",
        "Using pseudo-code, give an algorithm for deleting the smallest element of a binary search\n",
        "tree (a BST). Assume a non-empty binary tree T has attributes T.left, T.right, and T.root\n",
        "which denote T’s left sub-tree, right sub-tree, and the key of T’s root node, respectively.\n",
        "You can use these tests if they seem useful: IsLeaf(T) tests whether the binary tree T is\n",
        "a leaf, and IsEmpty(T) tests whether it is empty.  \n",
        "\n",
        "Assuming T.left <= T.root and T.right > T.root\n",
        "```\n",
        "function delete_smallest(T):\n",
        "  if IsEmpty(T) or IsLeaf(T):\n",
        "    print(\"Tree must not be empty and have a left subtree\")\n",
        "    return\n",
        "  \n",
        "  # Find smallest node and its parent\n",
        "  parent = None\n",
        "  smallest = T\n",
        "  while True:\n",
        "    if IsEmpty(smallest.left):\n",
        "      break\n",
        "    parent = smallest\n",
        "    smallest = smallest.left\n",
        "    \n",
        "  # Remove smallest node\n",
        "  parent.left = smallest.right\n",
        "```\n",
        "\n"
      ]
    },
    {
      "cell_type": "code",
      "metadata": {
        "id": "Qj1WceTnYJq1",
        "colab_type": "code",
        "outputId": "ba218394-90f0-4a05-c1b8-3b0a3a8309fc",
        "colab": {
          "base_uri": "https://localhost:8080/",
          "height": 867
        }
      },
      "source": [
        "def delete_smallest(T):\n",
        "  if not T or not T.left:\n",
        "    print(\"Tree must not be empty and have a left subtree\")\n",
        "    return\n",
        "\n",
        "  # Find smallest node and its parent\n",
        "  parent = None\n",
        "  smallest = T\n",
        "  while True:\n",
        "    if not smallest.left:\n",
        "      break\n",
        "    parent = smallest\n",
        "    smallest = smallest.left\n",
        "\n",
        "  # Remove smallest node\n",
        "  parent.left = smallest.right\n",
        "\n",
        "T = build([12, 7, 13, 0, 8, None, 14, None, 6, None, 10])\n",
        "print(T)\n",
        "delete_smallest(T)\n",
        "print(T)\n",
        "\n",
        "T = build([12, 7, 13, 0, 8, None, 14, 0, 6, None, 10])\n",
        "print(T)\n",
        "delete_smallest(T)\n",
        "print(T)\n",
        "\n",
        "T = build([12, None, 13])\n",
        "print(T)\n",
        "delete_smallest(T)\n",
        "print(T)\n",
        "\n",
        "T = build([])\n",
        "print(T)\n",
        "delete_smallest(T)\n",
        "print(T)"
      ],
      "execution_count": 4,
      "outputs": [
        {
          "output_type": "stream",
          "text": [
            "\n",
            "      _____12\n",
            "     /       \\\n",
            "  __7         13\n",
            " /   \\          \\\n",
            "0     8          14\n",
            " \\     \\\n",
            "  6     10\n",
            "\n",
            "\n",
            "    _____12\n",
            "   /       \\\n",
            "  7         13\n",
            " / \\          \\\n",
            "6   8          14\n",
            "     \\\n",
            "      10\n",
            "\n",
            "\n",
            "        _____12\n",
            "       /       \\\n",
            "    __7         13\n",
            "   /   \\          \\\n",
            "  0     8          14\n",
            " / \\     \\\n",
            "0   6     10\n",
            "\n",
            "\n",
            "      _____12\n",
            "     /       \\\n",
            "  __7         13\n",
            " /   \\          \\\n",
            "0     8          14\n",
            " \\     \\\n",
            "  6     10\n",
            "\n",
            "\n",
            "12\n",
            "  \\\n",
            "   13\n",
            "\n",
            "Tree must not be empty and have a left subtree\n",
            "\n",
            "12\n",
            "  \\\n",
            "   13\n",
            "\n",
            "None\n",
            "Tree must not be empty and have a left subtree\n",
            "None\n"
          ],
          "name": "stdout"
        }
      ]
    },
    {
      "cell_type": "markdown",
      "metadata": {
        "id": "hL9ulNewCU5Q",
        "colab_type": "text"
      },
      "source": [
        "## Question 11 (10 marks)\n",
        "Consider an array A of n distinct integers (that is, all elements are different). It is known\n",
        "that A was originally sorted in ascending order, but A was then right-rotated r places, where\n",
        "0 < r < n. In other words, the last r elements were moved from the end of the array to the\n",
        "beginning, with all other elements being pushed r positions to the right. For example, for\n",
        "n = 7 and r = 3, the result may look like this:\n",
        "\n",
        "[43, 46, 58, 12, 20, 29, 34]  \n",
        "For r = 5, the result, based on the same original array, would be  \n",
        "[29, 34, 43, 46, 58, 12, 20]  \n",
        "\n",
        "You know that the given A[0..n−1] has this particular form, that is, for some r, the sequence\n",
        "A[r], . . . , A[n − 1], A[0], . . . A[r − 1] is in ascending order, but you do not know what r is.\n",
        "Design an algorithm to find the largest integer in A. Full marks are given for an algorithm\n",
        "that works in time O(log n); half marks are given for a solution that is correct, but less\n",
        "efficient.  \n",
        "\n"
      ]
    },
    {
      "cell_type": "code",
      "metadata": {
        "id": "eaS9AE_hugTe",
        "colab_type": "code",
        "colab": {}
      },
      "source": [
        "def find_largest(A, first, last):\n",
        "  if last - first <= 1:\n",
        "    return max(A[first], A[last])\n",
        "  \n",
        "  if A[first] < A[last]:\n",
        "    return A[last]\n",
        "  \n",
        "  mid = (first + last) // 2\n",
        "  if A[mid] >= A[first]:\n",
        "    return find_largest(A, mid, last)\n",
        "  \n",
        "  return find_largest(A, first, mid)\n",
        "\n",
        "A = [43, 46, 58, 12, 20, 29, 34]\n",
        "assert find_largest(A, 0, len(A)-1) == 58\n",
        "\n",
        "A = [29, 34, 43, 46, 58, 12, 20]\n",
        "assert find_largest(A, 0, len(A)-1) == 58\n",
        "\n",
        "A = [12, 20, 29, 34, 43, 46, 58]\n",
        "assert find_largest(A, 0, len(A)-1) == 58"
      ],
      "execution_count": 0,
      "outputs": []
    }
  ]
}